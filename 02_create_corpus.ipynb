{
 "cells": [
  {
   "cell_type": "code",
   "execution_count": null,
   "metadata": {},
   "outputs": [],
   "source": [
    "import nest_asyncio\n",
    "nest_asyncio.apply()"
   ]
  },
  {
   "cell_type": "code",
   "execution_count": null,
   "metadata": {},
   "outputs": [],
   "source": [
    "from PTTLibrary import PTT"
   ]
  },
  {
   "cell_type": "code",
   "execution_count": null,
   "metadata": {},
   "outputs": [],
   "source": [
    "import json\n",
    "def read_settings():\n",
    "    with open('./settings.json') as file:\n",
    "        setting = json.load(file)\n",
    "    return setting"
   ]
  },
  {
   "cell_type": "code",
   "execution_count": null,
   "metadata": {},
   "outputs": [],
   "source": [
    "setting=read_settings()"
   ]
  },
  {
   "cell_type": "code",
   "execution_count": null,
   "metadata": {},
   "outputs": [],
   "source": [
    "PTTBot = PTT.Library()#LogLevel=PTT.LogLevel.DEBUG\n",
    "try:\n",
    "    PTTBot.login(\n",
    "        ID=setting.get('ID'),\n",
    "        Password=setting.get('Password'),\n",
    "        KickOtherLogin=True\n",
    "    )\n",
    "except PTT.Exceptions.LoginError:\n",
    "    PTTBot.log('登入失敗')\n",
    "    sys.exit()\n",
    "PTTBot.log('登入成功')"
   ]
  },
  {
   "cell_type": "code",
   "execution_count": null,
   "metadata": {},
   "outputs": [],
   "source": [
    "import string\n",
    "from zhon.hanzi import punctuation\n",
    "import jieba\n",
    "import re\n",
    "jieba.load_userdict('user_dict.txt')"
   ]
  },
  {
   "cell_type": "code",
   "execution_count": null,
   "metadata": {},
   "outputs": [],
   "source": [
    "#預處理\n",
    "def preprocess(push_content_list):\n",
    "    # 移除超連結\n",
    "    push_content_list = [re.sub(r\"http\\S+\", \"\", s) for s in push_content_list]\n",
    "    # 移除空白\n",
    "    push_content_list = [s.replace(' ', '') for s in push_content_list]\n",
    "    # 移除空白內容\n",
    "    push_content_list = [s for s in push_content_list if s]\n",
    "    # 移除標點符號\n",
    "    push_content_list = [''.join(c for c in s if c not in string.punctuation) for s in push_content_list]\n",
    "    # 移除全形標點符號\n",
    "    push_content_list = [''.join(c for c in s if c not in punctuation) for s in push_content_list]\n",
    "    return push_content_list"
   ]
  },
  {
   "cell_type": "code",
   "execution_count": null,
   "metadata": {},
   "outputs": [],
   "source": [
    "#分詞\n",
    "def segment(push_content_list_preprocessed):       \n",
    "    seg_list = []    \n",
    "    for push_content in push_content_list_preprocessed:\n",
    "        seg = jieba.lcut(push_content, cut_all=False)\n",
    "        seg_list = seg_list + seg\n",
    "    return seg_list"
   ]
  },
  {
   "cell_type": "code",
   "execution_count": null,
   "metadata": {},
   "outputs": [],
   "source": [
    "def get_push_corpus(push_list):\n",
    "    push_content_list = [push.getContent() for push in push_list]\n",
    "#     print(f'{len(push_list)}則推文')\n",
    "    push_content_list_preprocessed = preprocess(push_content_list)\n",
    "    seg_list = segment(push_content_list_preprocessed)\n",
    "    return seg_list"
   ]
  },
  {
   "cell_type": "code",
   "execution_count": null,
   "metadata": {},
   "outputs": [],
   "source": [
    "documents = []"
   ]
  },
  {
   "cell_type": "code",
   "execution_count": null,
   "metadata": {},
   "outputs": [],
   "source": [
    "def crawlHandler(post):\n",
    "    global documents\n",
    "    if post.getDeleteStatus() != PTT.PostDeleteStatus.NotDeleted:\n",
    "        return\n",
    "    corpus = get_push_corpus(post.getPushList())\n",
    "    documents.append(corpus)"
   ]
  },
  {
   "cell_type": "code",
   "execution_count": null,
   "metadata": {},
   "outputs": [],
   "source": [
    "Board='Stock'\n",
    "SearchType=PTT.PostSearchType.Keyword\n",
    "Condition='盤中閒聊'\n",
    "TestRange = 100\n",
    "NewestIndex = PTTBot.getNewestIndex(\n",
    "    PTT.IndexType.Board,\n",
    "    Board,\n",
    "    SearchType=SearchType,\n",
    "    SearchCondition=Condition,\n",
    ")\n",
    "StartIndex = NewestIndex - TestRange + 1\n",
    "print(f'預備爬行 {Board} 編號 {StartIndex} ~ {NewestIndex} 文章')\n",
    "ErrorPostList, DelPostList = PTTBot.crawlBoard(\n",
    "    crawlHandler,\n",
    "    Board,\n",
    "    StartIndex=StartIndex,\n",
    "    EndIndex=NewestIndex,\n",
    "    SearchType=SearchType,\n",
    "    SearchCondition=Condition,\n",
    ")\n",
    "if len(ErrorPostList) > 0:\n",
    "    print('Error Post: \\n' + '\\n'.join(str(x) for x in ErrorPostList))\n",
    "if len(DelPostList) > 0:\n",
    "    print('Del Post: \\n' + '\\n'.join([str(x) for x in DelPostList]))\n",
    "    print(f'共有 {len(DelPostList)} 篇文章被刪除')"
   ]
  },
  {
   "cell_type": "code",
   "execution_count": null,
   "metadata": {},
   "outputs": [],
   "source": [
    "from gensim import corpora"
   ]
  },
  {
   "cell_type": "code",
   "execution_count": null,
   "metadata": {},
   "outputs": [],
   "source": [
    "# 建立本次文檔的語料庫(字典) \n",
    "dictionary = corpora.Dictionary(documents)\n",
    "dictionary.save('ptt_stock_corpus.dict')"
   ]
  },
  {
   "cell_type": "code",
   "execution_count": null,
   "metadata": {},
   "outputs": [],
   "source": [
    "# 生成词库\n",
    "corpus = [dictionary.doc2bow(document) for document in documents]\n",
    "print(len(corpus))\n",
    "# 保存词库\n",
    "corpora.MmCorpus.serialize(\"ptt_stock_corpus.mm\", corpus)"
   ]
  },
  {
   "cell_type": "code",
   "execution_count": null,
   "metadata": {},
   "outputs": [],
   "source": []
  }
 ],
 "metadata": {
  "kernelspec": {
   "display_name": "Python 3",
   "language": "python",
   "name": "python3"
  },
  "language_info": {
   "codemirror_mode": {
    "name": "ipython",
    "version": 3
   },
   "file_extension": ".py",
   "mimetype": "text/x-python",
   "name": "python",
   "nbconvert_exporter": "python",
   "pygments_lexer": "ipython3",
   "version": "3.7.3"
  }
 },
 "nbformat": 4,
 "nbformat_minor": 4
}

{
 "cells": [
  {
   "cell_type": "code",
   "execution_count": 1,
   "metadata": {},
   "outputs": [],
   "source": [
    "import nest_asyncio\n",
    "nest_asyncio.apply()"
   ]
  },
  {
   "cell_type": "code",
   "execution_count": 2,
   "metadata": {},
   "outputs": [],
   "source": [
    "from PTTLibrary import PTT"
   ]
  },
  {
   "cell_type": "code",
   "execution_count": 3,
   "metadata": {},
   "outputs": [],
   "source": [
    "import json\n",
    "def read_settings():\n",
    "    with open('./settings.json') as file:\n",
    "        setting = json.load(file)\n",
    "    return setting"
   ]
  },
  {
   "cell_type": "code",
   "execution_count": 4,
   "metadata": {},
   "outputs": [],
   "source": [
    "setting=read_settings()"
   ]
  },
  {
   "cell_type": "code",
   "execution_count": 5,
   "metadata": {},
   "outputs": [
    {
     "name": "stdout",
     "output_type": "stream",
     "text": [
      "PTT Library v 0.8.13\n",
      "Developed by PTT CodingMan\n",
      "[0905 18:53:24][資訊] 繁體中文語言模組 [初始化]\n",
      "[0905 18:53:24][資訊] 連線核心 [初始化]\n",
      "[0905 18:53:24][資訊] 批踢踢函式庫 v 0.8.13 [初始化]\n",
      "[0905 18:53:24][資訊] 登入帳號 [bigtongue]\n",
      "[0905 18:53:24][資訊] 連線核心 [啟動]\n",
      "[0905 18:53:24][資訊] 連線批踢踢 [WebSocket]\n",
      "[0905 18:53:24][資訊] 批踢踢訊息 [登入中，請稍候]\n",
      "[0905 18:53:24][資訊] 批踢踢訊息 [剔除其他登入]\n",
      "[0905 18:53:29][資訊] 批踢踢訊息 [請按任意鍵繼續]\n",
      "[0905 18:53:30][資訊] 批踢踢訊息 [登入成功]\n",
      "[0905 18:53:30][資訊] 登入成功\n"
     ]
    }
   ],
   "source": [
    "PTTBot = PTT.Library()#LogLevel=PTT.LogLevel.DEBUG\n",
    "try:\n",
    "    PTTBot.login(\n",
    "        ID=setting.get('ID'),\n",
    "        Password=setting.get('Password'),\n",
    "        KickOtherLogin=True\n",
    "    )\n",
    "except PTT.Exceptions.LoginError:\n",
    "    PTTBot.log('登入失敗')\n",
    "    sys.exit()\n",
    "PTTBot.log('登入成功')"
   ]
  },
  {
   "cell_type": "code",
   "execution_count": 6,
   "metadata": {},
   "outputs": [
    {
     "name": "stdout",
     "output_type": "stream",
     "text": [
      "Stock 最新文章編號 1\n",
      "標題:\n",
      "[閒聊] 2019/04/16 盤中閒聊\n",
      "內文:\n",
      "==============108/04/16台股資訊重點整理，供股民做投資參考=============\n",
      "台  股  10875.6   ▲70.3(+0.65%)1187.65億\n",
      "台指04 10876    ▲74  (+0.69%) 86,786口\n",
      "盤後04 10862    ▼14  (-0.13%)  22,698口\n",
      "摩台指 403.5      ▼0.2 (-0.05%)\n",
      "八大公股             -0.32億 \n",
      "台指期未平倉口數 自營商 -4,433(+1,306) 投信 -25,925(+228) 外資 +61,456(-1,652)\n",
      "台指選未平倉口數 自營商 +14,391(+24,658) 投信 -2,273(-47) 外資 +99,928(+3,338)\n",
      "P/C Ratio 129.21%  (+7.27%)\n",
      "最大未平倉量                Call 10900 Put 10500\n",
      "最大未平倉變化量  Call 10800 Put 10850\n",
      "------------------------------------------------------------------\n",
      "道瓊工業   26384.77 ▼27.53(-0.10%)\n",
      "那斯達克    7976.01  ▼8.15(-0.10%)\n",
      "標普500     2905.58 ▼1.83(-0.06%)\n",
      "費城半導體 1485.82 ▼11.3(-0.75%)\n",
      "\n",
      "擦鞋童發文，資料有若誤請多包涵\n",
      "\n",
      "--\n",
      "==================================================\n"
     ]
    }
   ],
   "source": [
    "Board='Stock'\n",
    "SearchType=PTT.PostSearchType.Keyword\n",
    "Condition='2019/04/16 盤中閒聊'\n",
    "Index = PTTBot.getNewestIndex(\n",
    "        PTT.IndexType.Board,\n",
    "        Board,\n",
    "        SearchType,\n",
    "        SearchCondition=Condition,\n",
    "    )\n",
    "print(f'{Board} 最新文章編號 {Index}')\n",
    "Post = PTTBot.getPost(\n",
    "    Board,\n",
    "    PostIndex=Index,\n",
    "    SearchType=SearchType,\n",
    "    SearchCondition=Condition,\n",
    ")\n",
    "\n",
    "print('標題:')\n",
    "print(Post.getTitle())\n",
    "print('內文:')\n",
    "print(Post.getContent())\n",
    "print('=' * 50)"
   ]
  },
  {
   "cell_type": "code",
   "execution_count": 7,
   "metadata": {},
   "outputs": [
    {
     "name": "stdout",
     "output_type": "stream",
     "text": [
      "1307則推文\n"
     ]
    }
   ],
   "source": [
    "push_content_list = []\n",
    "for push in Post.getPushList():\n",
    "    push_content = push.getContent()\n",
    "    push_content_list.append(push_content)\n",
    "print(f'{len(Post.getPushList())}則推文')"
   ]
  },
  {
   "cell_type": "markdown",
   "metadata": {},
   "source": [
    "## 預處理"
   ]
  },
  {
   "cell_type": "code",
   "execution_count": 8,
   "metadata": {},
   "outputs": [],
   "source": [
    "import string\n",
    "from zhon.hanzi import punctuation\n",
    "push_content_list = [s.replace(' ', '') for s in push_content_list]\n",
    "push_content_list = [s for s in push_content_list if s]\n",
    "push_content_list = [''.join(c for c in s if c not in string.punctuation) for s in push_content_list]\n",
    "push_content_list = [''.join(c for c in s if c not in punctuation) for s in push_content_list]"
   ]
  },
  {
   "cell_type": "code",
   "execution_count": 9,
   "metadata": {},
   "outputs": [
    {
     "name": "stderr",
     "output_type": "stream",
     "text": [
      "Building prefix dict from the default dictionary ...\n",
      "Loading model from cache C:\\Users\\BIGTON~1\\AppData\\Local\\Temp\\jieba.cache\n",
      "Loading model cost 0.538 seconds.\n",
      "Prefix dict has been built succesfully.\n"
     ]
    }
   ],
   "source": [
    "words_list = []\n",
    "import jieba\n",
    "jieba.load_userdict('user_dict.txt')\n",
    "for push_content in push_content_list:\n",
    "    words = jieba.lcut(push_content, cut_all=False)\n",
    "    words_list = words_list + words"
   ]
  },
  {
   "cell_type": "markdown",
   "metadata": {},
   "source": [
    "## tf-idf"
   ]
  },
  {
   "cell_type": "code",
   "execution_count": 10,
   "metadata": {},
   "outputs": [
    {
     "name": "stderr",
     "output_type": "stream",
     "text": [
      "C:\\Users\\Bigtongue\\Anaconda3\\lib\\site-packages\\gensim\\utils.py:1197: UserWarning: detected Windows; aliasing chunkize to chunkize_serial\n",
      "  warnings.warn(\"detected Windows; aliasing chunkize to chunkize_serial\")\n"
     ]
    }
   ],
   "source": [
    "import os\n",
    "from gensim import corpora, models, similarities"
   ]
  },
  {
   "cell_type": "code",
   "execution_count": 11,
   "metadata": {},
   "outputs": [
    {
     "name": "stderr",
     "output_type": "stream",
     "text": [
      "C:\\Users\\Bigtongue\\Anaconda3\\lib\\site-packages\\smart_open\\smart_open_lib.py:398: UserWarning: This function is deprecated, use smart_open.open instead. See the migration notes for details: https://github.com/RaRe-Technologies/smart_open/blob/master/README.rst#migrating-to-the-new-open-function\n",
      "  'See the migration notes for details: %s' % _MIGRATION_NOTES_URL\n"
     ]
    }
   ],
   "source": [
    "# 載入語料庫\n",
    "if (os.path.exists('ptt_stock_corpus.dict')):\n",
    "    dictionary = corpora.Dictionary.load('ptt_stock_corpus.dict')\n",
    "    corpus = corpora.MmCorpus('ptt_stock_corpus.mm') \n",
    "else:\n",
    "    print('No corpus file')"
   ]
  },
  {
   "cell_type": "code",
   "execution_count": 12,
   "metadata": {},
   "outputs": [],
   "source": [
    "# 新資料\n",
    "new_corpus = dictionary.doc2bow(words_list)\n",
    "# 創建 tfidf model\n",
    "tfidf = models.TfidfModel(corpus)\n",
    "new_corpus_tfidf = tfidf[new_corpus]"
   ]
  },
  {
   "cell_type": "code",
   "execution_count": 13,
   "metadata": {},
   "outputs": [
    {
     "name": "stdout",
     "output_type": "stream",
     "text": [
      "和碩:0.5851612174285397\n",
      "3062:0.19308095062841366\n",
      "錢線:0.1180880687857018\n",
      "6116:0.11334565727801023\n",
      "3491:0.10632906609842686\n",
      "2929:0.1012183446734587\n",
      "2643:0.09654047531420683\n",
      "睿涵:0.09654047531420683\n",
      "2313:0.09554611260448366\n",
      "3338:0.08953317787000009\n"
     ]
    }
   ],
   "source": [
    "new_corpus_tfidf.sort(key=lambda x: x[1],reverse=True)\n",
    "for index,weight in new_corpus_tfidf[:10]:\n",
    "    print(f'{dictionary[index]}:{weight}')"
   ]
  },
  {
   "cell_type": "code",
   "execution_count": null,
   "metadata": {},
   "outputs": [],
   "source": []
  }
 ],
 "metadata": {
  "kernelspec": {
   "display_name": "Python 3",
   "language": "python",
   "name": "python3"
  },
  "language_info": {
   "codemirror_mode": {
    "name": "ipython",
    "version": 3
   },
   "file_extension": ".py",
   "mimetype": "text/x-python",
   "name": "python",
   "nbconvert_exporter": "python",
   "pygments_lexer": "ipython3",
   "version": "3.7.3"
  }
 },
 "nbformat": 4,
 "nbformat_minor": 4
}

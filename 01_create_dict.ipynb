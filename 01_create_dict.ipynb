{
 "cells": [
  {
   "cell_type": "code",
   "execution_count": 1,
   "metadata": {},
   "outputs": [],
   "source": [
    "from bs4 import BeautifulSoup"
   ]
  },
  {
   "cell_type": "code",
   "execution_count": 2,
   "metadata": {},
   "outputs": [],
   "source": [
    "import requests\n",
    "r = requests.get('https://isin.twse.com.tw/isin/C_public.jsp?strMode=2')\n",
    "soup = BeautifulSoup(r.text,'lxml')\n",
    "tse_table = soup.select('body > table.h4 > tr > td:nth-child(1):not([colspan=\"7\"]):not([bgcolor=\"#D5FFD5\"])')"
   ]
  },
  {
   "cell_type": "code",
   "execution_count": 3,
   "metadata": {},
   "outputs": [],
   "source": [
    "r = requests.get('http://isin.twse.com.tw/isin/C_public.jsp?strMode=4')\n",
    "soup = BeautifulSoup(r.text,'lxml')\n",
    "otc_table = soup.select('body > table.h4 > tr > td:nth-child(1):not([colspan=\"7\"]):not([bgcolor=\"#D5FFD5\"])')"
   ]
  },
  {
   "cell_type": "code",
   "execution_count": 4,
   "metadata": {},
   "outputs": [],
   "source": [
    "common_words = ['漲停板','跌停板']\n",
    "meme = ['大獲全勝','玉山哥','99']\n",
    "addtional_words = common_words + meme"
   ]
  },
  {
   "cell_type": "code",
   "execution_count": 5,
   "metadata": {},
   "outputs": [],
   "source": [
    "with open('user_dict.txt', \"w\", encoding = 'UTF-8') as f:\n",
    "    for tse in tse_table:\n",
    "        text_split = tse.text.split('\\u3000')\n",
    "        f.write(text_split[0]+'\\n')\n",
    "        f.write(text_split[1]+'\\n')\n",
    "    for otc in otc_table:\n",
    "        text_split = otc.text.split('\\u3000')\n",
    "        f.write(text_split[0]+'\\n')\n",
    "        f.write(text_split[1]+'\\n')\n",
    "    for addtional_word in addtional_words:\n",
    "        f.write(addtional_word+'\\n')"
   ]
  }
 ],
 "metadata": {
  "kernelspec": {
   "display_name": "Python 3",
   "language": "python",
   "name": "python3"
  },
  "language_info": {
   "codemirror_mode": {
    "name": "ipython",
    "version": 3
   },
   "file_extension": ".py",
   "mimetype": "text/x-python",
   "name": "python",
   "nbconvert_exporter": "python",
   "pygments_lexer": "ipython3",
   "version": "3.7.3"
  }
 },
 "nbformat": 4,
 "nbformat_minor": 4
}
